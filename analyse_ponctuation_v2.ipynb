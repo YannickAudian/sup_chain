{
 "cells": [
  {
   "cell_type": "code",
   "execution_count": 1,
   "id": "1477c0cf",
   "metadata": {},
   "outputs": [],
   "source": [
    "import pandas as pd\n"
   ]
  },
  {
   "cell_type": "code",
   "execution_count": 2,
   "id": "250dae5f",
   "metadata": {},
   "outputs": [],
   "source": [
    "df=pd.read_csv('df_09_avec_category_nps.csv')"
   ]
  },
  {
   "cell_type": "code",
   "execution_count": 3,
   "id": "aaaacc30",
   "metadata": {},
   "outputs": [
    {
     "data": {
      "text/html": [
       "<div>\n",
       "<style scoped>\n",
       "    .dataframe tbody tr th:only-of-type {\n",
       "        vertical-align: middle;\n",
       "    }\n",
       "\n",
       "    .dataframe tbody tr th {\n",
       "        vertical-align: top;\n",
       "    }\n",
       "\n",
       "    .dataframe thead th {\n",
       "        text-align: right;\n",
       "    }\n",
       "</style>\n",
       "<table border=\"1\" class=\"dataframe\">\n",
       "  <thead>\n",
       "    <tr style=\"text-align: right;\">\n",
       "      <th></th>\n",
       "      <th>title</th>\n",
       "      <th>rating</th>\n",
       "      <th>body</th>\n",
       "      <th>category</th>\n",
       "      <th>month_year</th>\n",
       "      <th>plate_forme</th>\n",
       "      <th>nb_tokens</th>\n",
       "      <th>category_nps</th>\n",
       "      <th>category_numeric</th>\n",
       "    </tr>\n",
       "  </thead>\n",
       "  <tbody>\n",
       "    <tr>\n",
       "      <th>0</th>\n",
       "      <td>Exploitation car blocage de remboursement</td>\n",
       "      <td>1</td>\n",
       "      <td>entre les colis jetés n'importe où, et l'argen...</td>\n",
       "      <td>Shipping</td>\n",
       "      <td>2024-06</td>\n",
       "      <td>AMAZON</td>\n",
       "      <td>73</td>\n",
       "      <td>Détracteur</td>\n",
       "      <td>-1</td>\n",
       "    </tr>\n",
       "    <tr>\n",
       "      <th>1</th>\n",
       "      <td>J'ai commandé une imprimante par…</td>\n",
       "      <td>1</td>\n",
       "      <td>J'ai commandé une imprimante par Amazon: Je n'...</td>\n",
       "      <td>Electronics</td>\n",
       "      <td>2024-06</td>\n",
       "      <td>AMAZON</td>\n",
       "      <td>83</td>\n",
       "      <td>Détracteur</td>\n",
       "      <td>-1</td>\n",
       "    </tr>\n",
       "    <tr>\n",
       "      <th>2</th>\n",
       "      <td>Colis Privé, société pas sérieuse</td>\n",
       "      <td>1</td>\n",
       "      <td>La société Colis Privé n'est pas sérieuse, cel...</td>\n",
       "      <td>Shipping</td>\n",
       "      <td>2024-06</td>\n",
       "      <td>AMAZON</td>\n",
       "      <td>50</td>\n",
       "      <td>Détracteur</td>\n",
       "      <td>-1</td>\n",
       "    </tr>\n",
       "    <tr>\n",
       "      <th>3</th>\n",
       "      <td>Que se passe-t’il chez Amazon ???</td>\n",
       "      <td>1</td>\n",
       "      <td>Que se passe-t’il chez Amazon ???\\nJ’ai comman...</td>\n",
       "      <td>Marketplace</td>\n",
       "      <td>2024-06</td>\n",
       "      <td>AMAZON</td>\n",
       "      <td>131</td>\n",
       "      <td>Détracteur</td>\n",
       "      <td>-1</td>\n",
       "    </tr>\n",
       "    <tr>\n",
       "      <th>4</th>\n",
       "      <td>Attention!!!!</td>\n",
       "      <td>1</td>\n",
       "      <td>Attention! Commande passée pour le portugal… d...</td>\n",
       "      <td>Customer Service</td>\n",
       "      <td>2024-06</td>\n",
       "      <td>AMAZON</td>\n",
       "      <td>55</td>\n",
       "      <td>Détracteur</td>\n",
       "      <td>-1</td>\n",
       "    </tr>\n",
       "    <tr>\n",
       "      <th>5</th>\n",
       "      <td>Comment peut-on encore se satisfaire de…</td>\n",
       "      <td>1</td>\n",
       "      <td>Comment peut-on encore se satisfaire de ce ven...</td>\n",
       "      <td>Customer Service</td>\n",
       "      <td>2024-06</td>\n",
       "      <td>AMAZON</td>\n",
       "      <td>50</td>\n",
       "      <td>Détracteur</td>\n",
       "      <td>-1</td>\n",
       "    </tr>\n",
       "    <tr>\n",
       "      <th>6</th>\n",
       "      <td>Carte cadeau</td>\n",
       "      <td>1</td>\n",
       "      <td>Carte cadeau bloquée, vérification d’identité ...</td>\n",
       "      <td>Customer Service</td>\n",
       "      <td>2024-06</td>\n",
       "      <td>AMAZON</td>\n",
       "      <td>66</td>\n",
       "      <td>Détracteur</td>\n",
       "      <td>-1</td>\n",
       "    </tr>\n",
       "    <tr>\n",
       "      <th>7</th>\n",
       "      <td>je trouve ce service remarquable</td>\n",
       "      <td>5</td>\n",
       "      <td>je trouve ce service remarquable. Commandes ra...</td>\n",
       "      <td>Customer Service</td>\n",
       "      <td>2024-06</td>\n",
       "      <td>AMAZON</td>\n",
       "      <td>48</td>\n",
       "      <td>Promoteur</td>\n",
       "      <td>1</td>\n",
       "    </tr>\n",
       "    <tr>\n",
       "      <th>8</th>\n",
       "      <td>AMAZON EST UNE HONTE</td>\n",
       "      <td>1</td>\n",
       "      <td>Amazon ma indiqué réparé mes écouteurs, mais i...</td>\n",
       "      <td>Electronics</td>\n",
       "      <td>2024-06</td>\n",
       "      <td>AMAZON</td>\n",
       "      <td>56</td>\n",
       "      <td>Détracteur</td>\n",
       "      <td>-1</td>\n",
       "    </tr>\n",
       "    <tr>\n",
       "      <th>9</th>\n",
       "      <td>Coordonnées carte bleue volées sur Amazon</td>\n",
       "      <td>1</td>\n",
       "      <td>Mes coordonnées carte bleue ont été volées et ...</td>\n",
       "      <td>Customer Service</td>\n",
       "      <td>2024-06</td>\n",
       "      <td>AMAZON</td>\n",
       "      <td>62</td>\n",
       "      <td>Détracteur</td>\n",
       "      <td>-1</td>\n",
       "    </tr>\n",
       "  </tbody>\n",
       "</table>\n",
       "</div>"
      ],
      "text/plain": [
       "                                       title  rating  \\\n",
       "0  Exploitation car blocage de remboursement       1   \n",
       "1          J'ai commandé une imprimante par…       1   \n",
       "2         Colis Privé, société pas sérieuse        1   \n",
       "3          Que se passe-t’il chez Amazon ???       1   \n",
       "4                              Attention!!!!       1   \n",
       "5   Comment peut-on encore se satisfaire de…       1   \n",
       "6                               Carte cadeau       1   \n",
       "7           je trouve ce service remarquable       5   \n",
       "8                       AMAZON EST UNE HONTE       1   \n",
       "9  Coordonnées carte bleue volées sur Amazon       1   \n",
       "\n",
       "                                                body          category  \\\n",
       "0  entre les colis jetés n'importe où, et l'argen...          Shipping   \n",
       "1  J'ai commandé une imprimante par Amazon: Je n'...       Electronics   \n",
       "2  La société Colis Privé n'est pas sérieuse, cel...          Shipping   \n",
       "3  Que se passe-t’il chez Amazon ???\\nJ’ai comman...       Marketplace   \n",
       "4  Attention! Commande passée pour le portugal… d...  Customer Service   \n",
       "5  Comment peut-on encore se satisfaire de ce ven...  Customer Service   \n",
       "6  Carte cadeau bloquée, vérification d’identité ...  Customer Service   \n",
       "7  je trouve ce service remarquable. Commandes ra...  Customer Service   \n",
       "8  Amazon ma indiqué réparé mes écouteurs, mais i...       Electronics   \n",
       "9  Mes coordonnées carte bleue ont été volées et ...  Customer Service   \n",
       "\n",
       "  month_year plate_forme  nb_tokens category_nps  category_numeric  \n",
       "0    2024-06      AMAZON         73   Détracteur                -1  \n",
       "1    2024-06      AMAZON         83   Détracteur                -1  \n",
       "2    2024-06      AMAZON         50   Détracteur                -1  \n",
       "3    2024-06      AMAZON        131   Détracteur                -1  \n",
       "4    2024-06      AMAZON         55   Détracteur                -1  \n",
       "5    2024-06      AMAZON         50   Détracteur                -1  \n",
       "6    2024-06      AMAZON         66   Détracteur                -1  \n",
       "7    2024-06      AMAZON         48    Promoteur                 1  \n",
       "8    2024-06      AMAZON         56   Détracteur                -1  \n",
       "9    2024-06      AMAZON         62   Détracteur                -1  "
      ]
     },
     "execution_count": 3,
     "metadata": {},
     "output_type": "execute_result"
    }
   ],
   "source": [
    "df.head(10)"
   ]
  },
  {
   "cell_type": "code",
   "execution_count": 4,
   "id": "10a8b9b9",
   "metadata": {},
   "outputs": [
    {
     "data": {
      "text/plain": [
       "category_numeric\n",
       "-1    6509\n",
       " 1    5823\n",
       " 0     318\n",
       "Name: count, dtype: int64"
      ]
     },
     "execution_count": 4,
     "metadata": {},
     "output_type": "execute_result"
    }
   ],
   "source": [
    "df['category_numeric'].value_counts()"
   ]
  },
  {
   "cell_type": "code",
   "execution_count": 5,
   "id": "d3e3e804",
   "metadata": {},
   "outputs": [],
   "source": [
    "import spacy\n",
    "from spacy.lang.fr.examples import sentences \n",
    "\n",
    "nlp = spacy.load('fr_core_news_sm')\n"
   ]
  },
  {
   "cell_type": "code",
   "execution_count": 6,
   "id": "13a536a5",
   "metadata": {},
   "outputs": [],
   "source": [
    "body_series = df[\"body\"].to_numpy()"
   ]
  },
  {
   "cell_type": "code",
   "execution_count": 7,
   "id": "3ac69cb1",
   "metadata": {},
   "outputs": [
    {
     "name": "stdout",
     "output_type": "stream",
     "text": [
      "entre les colis jetés n'importe où, et l'argent de colis retournés, remboursés par le vendeur, mais bien bloqué sur le compte cadeau.... Oui, ça c'est un cadeau empoisonné car, impossible de  s'en servir, ils demandent pour y accéder des tonnes de renseignements, alors qu'ils peuvent simplement revirer sur le compte bancaire. A faire ça avec beaucoup de monde, ils aurons gagnés beaucoup d'intérêts car ils font durer ....\n"
     ]
    }
   ],
   "source": [
    "print(body_series[0])"
   ]
  },
  {
   "cell_type": "code",
   "execution_count": 8,
   "id": "4f9289d5",
   "metadata": {},
   "outputs": [
    {
     "name": "stdout",
     "output_type": "stream",
     "text": [
      "Ponctuation: :, Position: 7\n",
      "Ponctuation: ., Position: 13\n",
      "Ponctuation: ,, Position: 21\n",
      "Ponctuation: ,, Position: 25\n",
      "Ponctuation: ,, Position: 29\n",
      "Ponctuation: ...., Position: 33\n",
      "Ponctuation: ., Position: 35\n",
      "Ponctuation: ., Position: 42\n",
      "Ponctuation: ,, Position: 51\n",
      "Ponctuation: ,, Position: 60\n",
      "Ponctuation: ., Position: 78\n",
      "Ponctuation: ., Position: 94\n"
     ]
    }
   ],
   "source": [
    "# Analyse syntaxique\n",
    "doc = nlp(body_series[1])\n",
    "\n",
    "# Analyse de la ponctuation\n",
    "ponctuations = [token for token in doc if token.is_punct]\n",
    "\n",
    "# Afficher les ponctuations trouvées\n",
    "for punct in ponctuations:\n",
    "    print(f'Ponctuation: {punct.text}, Position: {punct.i}')"
   ]
  },
  {
   "cell_type": "code",
   "execution_count": 9,
   "id": "c3c7c6a1",
   "metadata": {},
   "outputs": [
    {
     "name": "stdout",
     "output_type": "stream",
     "text": [
      "Ponctuation: ?, Position: 5\n",
      "Ponctuation: ?, Position: 6\n",
      "Ponctuation: ?, Position: 7\n",
      "Ponctuation: ,, Position: 22\n",
      "Ponctuation: «, Position: 29\n",
      "Ponctuation: », Position: 34\n",
      "Ponctuation: !, Position: 37\n",
      "Ponctuation: !, Position: 38\n",
      "Ponctuation: !, Position: 39\n",
      "Ponctuation: !, Position: 40\n",
      "Ponctuation: …, Position: 57\n",
      "Ponctuation: (, Position: 75\n",
      "Ponctuation: ), Position: 78\n",
      "Ponctuation: …, Position: 85\n",
      "Ponctuation: ., Position: 86\n",
      "Ponctuation: ,, Position: 92\n",
      "Ponctuation: ,, Position: 109\n",
      "Ponctuation: ., Position: 117\n",
      "Ponctuation: «, Position: 130\n",
      "Ponctuation: », Position: 136\n",
      "Ponctuation: …, Position: 141\n",
      "Ponctuation: ., Position: 142\n",
      "Ponctuation: :, Position: 145\n",
      "Ponctuation: «, Position: 152\n",
      "Ponctuation: », Position: 160\n",
      "Ponctuation: …, Position: 165\n"
     ]
    }
   ],
   "source": [
    "# Analyse syntaxique\n",
    "doc = nlp(body_series[3])\n",
    "\n",
    "# Analyse de la ponctuation\n",
    "ponctuations = [token for token in doc if token.is_punct]\n",
    "\n",
    "# Afficher les ponctuations trouvées\n",
    "for punct in ponctuations:\n",
    "    print(f'Ponctuation: {punct.text}, Position: {punct.i}')"
   ]
  },
  {
   "cell_type": "code",
   "execution_count": 10,
   "id": "e7c3b18c",
   "metadata": {},
   "outputs": [
    {
     "name": "stdout",
     "output_type": "stream",
     "text": [
      "Ponctuation: ., Position: 5\n",
      "Ponctuation: ,, Position: 8\n",
      "Ponctuation: ,, Position: 11\n",
      "Ponctuation: ,, Position: 19\n",
      "Ponctuation: ., Position: 27\n",
      "Ponctuation: :, Position: 34\n",
      "Ponctuation: ,, Position: 36\n",
      "Ponctuation: ,, Position: 38\n",
      "Ponctuation: ,, Position: 40\n",
      "Ponctuation: ., Position: 46\n",
      "Ponctuation: ., Position: 60\n"
     ]
    }
   ],
   "source": [
    "# Analyse syntaxique\n",
    "doc = nlp(body_series[7])\n",
    "\n",
    "# Analyse de la ponctuation\n",
    "ponctuations = [token for token in doc if token.is_punct]\n",
    "\n",
    "# Afficher les ponctuations trouvées\n",
    "for punct in ponctuations:\n",
    "    print(f'Ponctuation: {punct.text}, Position: {punct.i}')"
   ]
  },
  {
   "cell_type": "code",
   "execution_count": 11,
   "id": "ad76a92f",
   "metadata": {},
   "outputs": [],
   "source": [
    "#fonction permettant de compter les différentes marques de ponctuations d'un texte\n",
    "#on exclue les guillemets («») et les parenthèses (()) qui sont peu utilisés dans les avis\n",
    "def count_ponctuations(doc):\n",
    "    exclamation = list()\n",
    "    interrogation = list()\n",
    "    suspension = list()\n",
    "    point =list()\n",
    "    virgule=list()\n",
    "    deuxpoints=list()\n",
    "    exclamation_count=0\n",
    "    interrogation_count=0\n",
    "    suspension_count=0\n",
    "    point_count=0\n",
    "    virgule_count=0\n",
    "    deuxpoints_count=0\n",
    "    \n",
    "    ponctuations = [token for token in doc if token.is_punct]\n",
    "    for punct in ponctuations:\n",
    "        if punct.text == '!':\n",
    "            exclamation.append(punct.text)\n",
    "            exclamation_count+=1 \n",
    "        elif punct.text == '?':\n",
    "            interrogation.append(punct.text)\n",
    "            interrogation_count+=1\n",
    "        elif punct.text == '…':\n",
    "            suspension.append(punct.text)\n",
    "            suspension_count+=1\n",
    "        elif punct.text == '.':\n",
    "            point.append(punct.text)\n",
    "            point_count+=1\n",
    "        elif punct.text == ',':\n",
    "            virgule.append(punct.text)\n",
    "            virgule_count+=1\n",
    "        elif punct.text == ':':\n",
    "            deuxpoints.append(punct.text)\n",
    "            deuxpoints_count+=1\n",
    "            \n",
    "    return (exclamation,exclamation_count,interrogation,interrogation_count,suspension,suspension_count,point,point_count,virgule,virgule_count,deuxpoints,deuxpoints_count)\n",
    "\n",
    "\n",
    "    \n",
    "    \n"
   ]
  },
  {
   "cell_type": "code",
   "execution_count": 12,
   "id": "0c26c5bb",
   "metadata": {},
   "outputs": [
    {
     "data": {
      "text/plain": [
       "([],\n",
       " 0,\n",
       " [],\n",
       " 0,\n",
       " [],\n",
       " 0,\n",
       " ['.', '.', '.', '.'],\n",
       " 4,\n",
       " [',', ',', ',', ',', ',', ','],\n",
       " 6,\n",
       " [':'],\n",
       " 1)"
      ]
     },
     "execution_count": 12,
     "metadata": {},
     "output_type": "execute_result"
    }
   ],
   "source": [
    "#test de la fontion sur le body de la 4ème ligne du dataframe\n",
    "count_ponctuations(nlp(body_series[7]))"
   ]
  },
  {
   "cell_type": "code",
   "execution_count": 13,
   "id": "3d1ca9f0",
   "metadata": {},
   "outputs": [
    {
     "name": "stdout",
     "output_type": "stream",
     "text": [
      "je trouve ce service remarquable. Commandes rapides, choix énorme, SAV qui répond en cas de soucis, vraiment aucun risques à solliciter le service.\n",
      "L'offre est juste incroyable : Kindle, livraison, sélections, on trouve vraiment de tout.\n",
      "Je pense même prendre l'abonnement tellement je vais l'amortir facilement.\n"
     ]
    }
   ],
   "source": [
    "print(body_series[7])"
   ]
  },
  {
   "cell_type": "code",
   "execution_count": 14,
   "id": "f49634db",
   "metadata": {},
   "outputs": [],
   "source": [
    "#fonction pour ajouter les marques de ponctuation (!), (?), (...) et leur nombre à un dataframe\n",
    "def complete_cols_ponctuations(df):\n",
    "    \n",
    "    L_exclamation = list()\n",
    "    L_exclamation_count = list()\n",
    "    L_interrogation = list()\n",
    "    L_interrogation_count = list()\n",
    "    L_suspension = list()\n",
    "    L_suspension_count = list()\n",
    "    L_point = list()\n",
    "    L_point_count = list()\n",
    "    L_virgule = list()\n",
    "    L_virgule_count = list()\n",
    "    L_deuxpoints = list()\n",
    "    L_deuxpoints_count = list()\n",
    "    \n",
    "    \n",
    "    for _, row in df.iterrows():\n",
    "        result = count_ponctuations(nlp(row['body']))\n",
    "        L_exclamation.append(result[0])\n",
    "        L_exclamation_count.append(result[1])\n",
    "        L_interrogation.append(result[2])\n",
    "        L_interrogation_count.append(result[3])\n",
    "        L_suspension.append(result[4])\n",
    "        L_suspension_count.append(result[5])\n",
    "        L_point.append(result[6])\n",
    "        L_point_count.append(result[7])\n",
    "        L_virgule.append(result[8])\n",
    "        L_virgule_count.append(result[9])\n",
    "        L_deuxpoints.append(result[10])\n",
    "        L_deuxpoints_count.append(result[11])        \n",
    "        \n",
    "    df[\"exclamation\"] = L_exclamation\n",
    "    df[\"exclamation_counts\"] = L_exclamation_count\n",
    "    df[\"interrogation\"] = L_interrogation\n",
    "    df[\"interrogation_counts\"] = L_interrogation_count\n",
    "    df[\"suspension\"] = L_suspension\n",
    "    df[\"suspension_counts\"] = L_suspension_count\n",
    "    df[\"point\"] = L_point\n",
    "    df[\"point_counts\"] = L_point_count\n",
    "    df[\"virgule\"] = L_virgule\n",
    "    df[\"virgule_counts\"] = L_virgule_count    \n",
    "    df[\"deuxpoints\"] = L_deuxpoints\n",
    "    df[\"deuxpoints_counts\"] = L_deuxpoints_count    \n",
    "    return df"
   ]
  },
  {
   "cell_type": "code",
   "execution_count": 15,
   "id": "e99a78d0",
   "metadata": {},
   "outputs": [],
   "source": [
    "#application de la fonction au dataframe pour ajout de 6 nouvelles colonnes\n",
    "df_complet=complete_cols_ponctuations(df)"
   ]
  },
  {
   "cell_type": "code",
   "execution_count": 16,
   "id": "c83b7044",
   "metadata": {},
   "outputs": [
    {
     "data": {
      "text/html": [
       "<div>\n",
       "<style scoped>\n",
       "    .dataframe tbody tr th:only-of-type {\n",
       "        vertical-align: middle;\n",
       "    }\n",
       "\n",
       "    .dataframe tbody tr th {\n",
       "        vertical-align: top;\n",
       "    }\n",
       "\n",
       "    .dataframe thead th {\n",
       "        text-align: right;\n",
       "    }\n",
       "</style>\n",
       "<table border=\"1\" class=\"dataframe\">\n",
       "  <thead>\n",
       "    <tr style=\"text-align: right;\">\n",
       "      <th></th>\n",
       "      <th>title</th>\n",
       "      <th>rating</th>\n",
       "      <th>body</th>\n",
       "      <th>category</th>\n",
       "      <th>month_year</th>\n",
       "      <th>plate_forme</th>\n",
       "      <th>nb_tokens</th>\n",
       "      <th>category_nps</th>\n",
       "      <th>category_numeric</th>\n",
       "      <th>exclamation</th>\n",
       "      <th>...</th>\n",
       "      <th>interrogation</th>\n",
       "      <th>interrogation_counts</th>\n",
       "      <th>suspension</th>\n",
       "      <th>suspension_counts</th>\n",
       "      <th>point</th>\n",
       "      <th>point_counts</th>\n",
       "      <th>virgule</th>\n",
       "      <th>virgule_counts</th>\n",
       "      <th>deuxpoints</th>\n",
       "      <th>deuxpoints_counts</th>\n",
       "    </tr>\n",
       "  </thead>\n",
       "  <tbody>\n",
       "    <tr>\n",
       "      <th>0</th>\n",
       "      <td>Exploitation car blocage de remboursement</td>\n",
       "      <td>1</td>\n",
       "      <td>entre les colis jetés n'importe où, et l'argen...</td>\n",
       "      <td>Shipping</td>\n",
       "      <td>2024-06</td>\n",
       "      <td>AMAZON</td>\n",
       "      <td>73</td>\n",
       "      <td>Détracteur</td>\n",
       "      <td>-1</td>\n",
       "      <td>[]</td>\n",
       "      <td>...</td>\n",
       "      <td>[]</td>\n",
       "      <td>0</td>\n",
       "      <td>[]</td>\n",
       "      <td>0</td>\n",
       "      <td>[.]</td>\n",
       "      <td>1</td>\n",
       "      <td>[,, ,, ,, ,, ,, ,, ,, ,]</td>\n",
       "      <td>8</td>\n",
       "      <td>[]</td>\n",
       "      <td>0</td>\n",
       "    </tr>\n",
       "    <tr>\n",
       "      <th>1</th>\n",
       "      <td>J'ai commandé une imprimante par…</td>\n",
       "      <td>1</td>\n",
       "      <td>J'ai commandé une imprimante par Amazon: Je n'...</td>\n",
       "      <td>Electronics</td>\n",
       "      <td>2024-06</td>\n",
       "      <td>AMAZON</td>\n",
       "      <td>83</td>\n",
       "      <td>Détracteur</td>\n",
       "      <td>-1</td>\n",
       "      <td>[]</td>\n",
       "      <td>...</td>\n",
       "      <td>[]</td>\n",
       "      <td>0</td>\n",
       "      <td>[]</td>\n",
       "      <td>0</td>\n",
       "      <td>[., ., ., ., .]</td>\n",
       "      <td>5</td>\n",
       "      <td>[,, ,, ,, ,, ,]</td>\n",
       "      <td>5</td>\n",
       "      <td>[:]</td>\n",
       "      <td>1</td>\n",
       "    </tr>\n",
       "    <tr>\n",
       "      <th>2</th>\n",
       "      <td>Colis Privé, société pas sérieuse</td>\n",
       "      <td>1</td>\n",
       "      <td>La société Colis Privé n'est pas sérieuse, cel...</td>\n",
       "      <td>Shipping</td>\n",
       "      <td>2024-06</td>\n",
       "      <td>AMAZON</td>\n",
       "      <td>50</td>\n",
       "      <td>Détracteur</td>\n",
       "      <td>-1</td>\n",
       "      <td>[]</td>\n",
       "      <td>...</td>\n",
       "      <td>[]</td>\n",
       "      <td>0</td>\n",
       "      <td>[]</td>\n",
       "      <td>0</td>\n",
       "      <td>[., .]</td>\n",
       "      <td>2</td>\n",
       "      <td>[,, ,, ,]</td>\n",
       "      <td>3</td>\n",
       "      <td>[]</td>\n",
       "      <td>0</td>\n",
       "    </tr>\n",
       "    <tr>\n",
       "      <th>3</th>\n",
       "      <td>Que se passe-t’il chez Amazon ???</td>\n",
       "      <td>1</td>\n",
       "      <td>Que se passe-t’il chez Amazon ???\\nJ’ai comman...</td>\n",
       "      <td>Marketplace</td>\n",
       "      <td>2024-06</td>\n",
       "      <td>AMAZON</td>\n",
       "      <td>131</td>\n",
       "      <td>Détracteur</td>\n",
       "      <td>-1</td>\n",
       "      <td>[!, !, !, !]</td>\n",
       "      <td>...</td>\n",
       "      <td>[?, ?, ?]</td>\n",
       "      <td>3</td>\n",
       "      <td>[…, …, …, …]</td>\n",
       "      <td>4</td>\n",
       "      <td>[., ., .]</td>\n",
       "      <td>3</td>\n",
       "      <td>[,, ,, ,]</td>\n",
       "      <td>3</td>\n",
       "      <td>[:]</td>\n",
       "      <td>1</td>\n",
       "    </tr>\n",
       "    <tr>\n",
       "      <th>4</th>\n",
       "      <td>Attention!!!!</td>\n",
       "      <td>1</td>\n",
       "      <td>Attention! Commande passée pour le portugal… d...</td>\n",
       "      <td>Customer Service</td>\n",
       "      <td>2024-06</td>\n",
       "      <td>AMAZON</td>\n",
       "      <td>55</td>\n",
       "      <td>Détracteur</td>\n",
       "      <td>-1</td>\n",
       "      <td>[!, !, !, !, !, !, !]</td>\n",
       "      <td>...</td>\n",
       "      <td>[]</td>\n",
       "      <td>0</td>\n",
       "      <td>[…, …, …, …]</td>\n",
       "      <td>4</td>\n",
       "      <td>[]</td>\n",
       "      <td>0</td>\n",
       "      <td>[,]</td>\n",
       "      <td>1</td>\n",
       "      <td>[]</td>\n",
       "      <td>0</td>\n",
       "    </tr>\n",
       "  </tbody>\n",
       "</table>\n",
       "<p>5 rows × 21 columns</p>\n",
       "</div>"
      ],
      "text/plain": [
       "                                       title  rating  \\\n",
       "0  Exploitation car blocage de remboursement       1   \n",
       "1          J'ai commandé une imprimante par…       1   \n",
       "2         Colis Privé, société pas sérieuse        1   \n",
       "3          Que se passe-t’il chez Amazon ???       1   \n",
       "4                              Attention!!!!       1   \n",
       "\n",
       "                                                body          category  \\\n",
       "0  entre les colis jetés n'importe où, et l'argen...          Shipping   \n",
       "1  J'ai commandé une imprimante par Amazon: Je n'...       Electronics   \n",
       "2  La société Colis Privé n'est pas sérieuse, cel...          Shipping   \n",
       "3  Que se passe-t’il chez Amazon ???\\nJ’ai comman...       Marketplace   \n",
       "4  Attention! Commande passée pour le portugal… d...  Customer Service   \n",
       "\n",
       "  month_year plate_forme  nb_tokens category_nps  category_numeric  \\\n",
       "0    2024-06      AMAZON         73   Détracteur                -1   \n",
       "1    2024-06      AMAZON         83   Détracteur                -1   \n",
       "2    2024-06      AMAZON         50   Détracteur                -1   \n",
       "3    2024-06      AMAZON        131   Détracteur                -1   \n",
       "4    2024-06      AMAZON         55   Détracteur                -1   \n",
       "\n",
       "             exclamation  ...  interrogation interrogation_counts  \\\n",
       "0                     []  ...             []                    0   \n",
       "1                     []  ...             []                    0   \n",
       "2                     []  ...             []                    0   \n",
       "3           [!, !, !, !]  ...      [?, ?, ?]                    3   \n",
       "4  [!, !, !, !, !, !, !]  ...             []                    0   \n",
       "\n",
       "     suspension suspension_counts            point point_counts  \\\n",
       "0            []                 0              [.]            1   \n",
       "1            []                 0  [., ., ., ., .]            5   \n",
       "2            []                 0           [., .]            2   \n",
       "3  […, …, …, …]                 4        [., ., .]            3   \n",
       "4  […, …, …, …]                 4               []            0   \n",
       "\n",
       "                    virgule virgule_counts  deuxpoints deuxpoints_counts  \n",
       "0  [,, ,, ,, ,, ,, ,, ,, ,]              8          []                 0  \n",
       "1           [,, ,, ,, ,, ,]              5         [:]                 1  \n",
       "2                 [,, ,, ,]              3          []                 0  \n",
       "3                 [,, ,, ,]              3         [:]                 1  \n",
       "4                       [,]              1          []                 0  \n",
       "\n",
       "[5 rows x 21 columns]"
      ]
     },
     "execution_count": 16,
     "metadata": {},
     "output_type": "execute_result"
    }
   ],
   "source": [
    "#contrôle sur les 5 premiers enregistrements pour s'arrurer que le résultat est cohérent\n",
    "df_complet.head()"
   ]
  },
  {
   "cell_type": "code",
   "execution_count": 17,
   "id": "2ff8661e",
   "metadata": {},
   "outputs": [
    {
     "data": {
      "text/html": [
       "<div>\n",
       "<style scoped>\n",
       "    .dataframe tbody tr th:only-of-type {\n",
       "        vertical-align: middle;\n",
       "    }\n",
       "\n",
       "    .dataframe tbody tr th {\n",
       "        vertical-align: top;\n",
       "    }\n",
       "\n",
       "    .dataframe thead th {\n",
       "        text-align: right;\n",
       "    }\n",
       "</style>\n",
       "<table border=\"1\" class=\"dataframe\">\n",
       "  <thead>\n",
       "    <tr style=\"text-align: right;\">\n",
       "      <th></th>\n",
       "      <th>title</th>\n",
       "      <th>rating</th>\n",
       "      <th>body</th>\n",
       "      <th>category</th>\n",
       "      <th>month_year</th>\n",
       "      <th>plate_forme</th>\n",
       "      <th>nb_tokens</th>\n",
       "      <th>category_nps</th>\n",
       "      <th>category_numeric</th>\n",
       "      <th>exclamation</th>\n",
       "      <th>...</th>\n",
       "      <th>interrogation</th>\n",
       "      <th>interrogation_counts</th>\n",
       "      <th>suspension</th>\n",
       "      <th>suspension_counts</th>\n",
       "      <th>point</th>\n",
       "      <th>point_counts</th>\n",
       "      <th>virgule</th>\n",
       "      <th>virgule_counts</th>\n",
       "      <th>deuxpoints</th>\n",
       "      <th>deuxpoints_counts</th>\n",
       "    </tr>\n",
       "  </thead>\n",
       "  <tbody>\n",
       "    <tr>\n",
       "      <th>12645</th>\n",
       "      <td>Pris pour un imbècile</td>\n",
       "      <td>1</td>\n",
       "      <td>Bonjour,\\nJe souhaite vous faire part de mon e...</td>\n",
       "      <td>Electronics</td>\n",
       "      <td>2018-07</td>\n",
       "      <td>RDC</td>\n",
       "      <td>413</td>\n",
       "      <td>Détracteur</td>\n",
       "      <td>-1</td>\n",
       "      <td>[]</td>\n",
       "      <td>...</td>\n",
       "      <td>[]</td>\n",
       "      <td>0</td>\n",
       "      <td>[]</td>\n",
       "      <td>0</td>\n",
       "      <td>[., ., ., ., ., ., ., ., ., ., ., ., ., .]</td>\n",
       "      <td>14</td>\n",
       "      <td>[,, ,, ,, ,, ,, ,, ,, ,, ,, ,, ,, ,, ,, ,, ,, ...</td>\n",
       "      <td>21</td>\n",
       "      <td>[]</td>\n",
       "      <td>0</td>\n",
       "    </tr>\n",
       "    <tr>\n",
       "      <th>12646</th>\n",
       "      <td>Aucun respect</td>\n",
       "      <td>1</td>\n",
       "      <td>Tu passes la commande d'un article sur rueduco...</td>\n",
       "      <td>Customer Service</td>\n",
       "      <td>2018-07</td>\n",
       "      <td>RDC</td>\n",
       "      <td>143</td>\n",
       "      <td>Détracteur</td>\n",
       "      <td>-1</td>\n",
       "      <td>[!, !, !]</td>\n",
       "      <td>...</td>\n",
       "      <td>[?]</td>\n",
       "      <td>1</td>\n",
       "      <td>[]</td>\n",
       "      <td>0</td>\n",
       "      <td>[., ., ., ., ., .]</td>\n",
       "      <td>6</td>\n",
       "      <td>[,, ,, ,, ,, ,, ,, ,, ,, ,, ,, ,, ,, ,]</td>\n",
       "      <td>13</td>\n",
       "      <td>[:, :]</td>\n",
       "      <td>2</td>\n",
       "    </tr>\n",
       "    <tr>\n",
       "      <th>12647</th>\n",
       "      <td>a reception erreur d article suite a un…</td>\n",
       "      <td>1</td>\n",
       "      <td>a reception erreur d article suite a un soi di...</td>\n",
       "      <td>Customer Service</td>\n",
       "      <td>2018-07</td>\n",
       "      <td>RDC</td>\n",
       "      <td>131</td>\n",
       "      <td>Détracteur</td>\n",
       "      <td>-1</td>\n",
       "      <td>[]</td>\n",
       "      <td>...</td>\n",
       "      <td>[]</td>\n",
       "      <td>0</td>\n",
       "      <td>[]</td>\n",
       "      <td>0</td>\n",
       "      <td>[., ., ., ., ., .]</td>\n",
       "      <td>6</td>\n",
       "      <td>[]</td>\n",
       "      <td>0</td>\n",
       "      <td>[:, :]</td>\n",
       "      <td>2</td>\n",
       "    </tr>\n",
       "    <tr>\n",
       "      <th>12648</th>\n",
       "      <td>Bonjour?</td>\n",
       "      <td>1</td>\n",
       "      <td>Bonjour?\\n\\nVoilà plus jamais je commanderais ...</td>\n",
       "      <td>Customer Service</td>\n",
       "      <td>2018-07</td>\n",
       "      <td>RDC</td>\n",
       "      <td>671</td>\n",
       "      <td>Détracteur</td>\n",
       "      <td>-1</td>\n",
       "      <td>[!, !, !, !, !, !]</td>\n",
       "      <td>...</td>\n",
       "      <td>[?]</td>\n",
       "      <td>1</td>\n",
       "      <td>[]</td>\n",
       "      <td>0</td>\n",
       "      <td>[., .]</td>\n",
       "      <td>2</td>\n",
       "      <td>[,, ,, ,, ,]</td>\n",
       "      <td>4</td>\n",
       "      <td>[]</td>\n",
       "      <td>0</td>\n",
       "    </tr>\n",
       "    <tr>\n",
       "      <th>12649</th>\n",
       "      <td>Rueducommerce = VOLEURS</td>\n",
       "      <td>1</td>\n",
       "      <td>J'ai retourné un article trop grand avec deman...</td>\n",
       "      <td>Customer Service</td>\n",
       "      <td>2018-07</td>\n",
       "      <td>RDC</td>\n",
       "      <td>61</td>\n",
       "      <td>Détracteur</td>\n",
       "      <td>-1</td>\n",
       "      <td>[]</td>\n",
       "      <td>...</td>\n",
       "      <td>[]</td>\n",
       "      <td>0</td>\n",
       "      <td>[]</td>\n",
       "      <td>0</td>\n",
       "      <td>[., ., ., ., .]</td>\n",
       "      <td>5</td>\n",
       "      <td>[]</td>\n",
       "      <td>0</td>\n",
       "      <td>[]</td>\n",
       "      <td>0</td>\n",
       "    </tr>\n",
       "  </tbody>\n",
       "</table>\n",
       "<p>5 rows × 21 columns</p>\n",
       "</div>"
      ],
      "text/plain": [
       "                                          title  rating  \\\n",
       "12645                     Pris pour un imbècile       1   \n",
       "12646                             Aucun respect       1   \n",
       "12647  a reception erreur d article suite a un…       1   \n",
       "12648                                  Bonjour?       1   \n",
       "12649                   Rueducommerce = VOLEURS       1   \n",
       "\n",
       "                                                    body          category  \\\n",
       "12645  Bonjour,\\nJe souhaite vous faire part de mon e...       Electronics   \n",
       "12646  Tu passes la commande d'un article sur rueduco...  Customer Service   \n",
       "12647  a reception erreur d article suite a un soi di...  Customer Service   \n",
       "12648  Bonjour?\\n\\nVoilà plus jamais je commanderais ...  Customer Service   \n",
       "12649  J'ai retourné un article trop grand avec deman...  Customer Service   \n",
       "\n",
       "      month_year plate_forme  nb_tokens category_nps  category_numeric  \\\n",
       "12645    2018-07         RDC        413   Détracteur                -1   \n",
       "12646    2018-07         RDC        143   Détracteur                -1   \n",
       "12647    2018-07         RDC        131   Détracteur                -1   \n",
       "12648    2018-07         RDC        671   Détracteur                -1   \n",
       "12649    2018-07         RDC         61   Détracteur                -1   \n",
       "\n",
       "              exclamation  ...  interrogation interrogation_counts  \\\n",
       "12645                  []  ...             []                    0   \n",
       "12646           [!, !, !]  ...            [?]                    1   \n",
       "12647                  []  ...             []                    0   \n",
       "12648  [!, !, !, !, !, !]  ...            [?]                    1   \n",
       "12649                  []  ...             []                    0   \n",
       "\n",
       "       suspension suspension_counts  \\\n",
       "12645          []                 0   \n",
       "12646          []                 0   \n",
       "12647          []                 0   \n",
       "12648          []                 0   \n",
       "12649          []                 0   \n",
       "\n",
       "                                            point point_counts  \\\n",
       "12645  [., ., ., ., ., ., ., ., ., ., ., ., ., .]           14   \n",
       "12646                          [., ., ., ., ., .]            6   \n",
       "12647                          [., ., ., ., ., .]            6   \n",
       "12648                                      [., .]            2   \n",
       "12649                             [., ., ., ., .]            5   \n",
       "\n",
       "                                                 virgule virgule_counts  \\\n",
       "12645  [,, ,, ,, ,, ,, ,, ,, ,, ,, ,, ,, ,, ,, ,, ,, ...             21   \n",
       "12646            [,, ,, ,, ,, ,, ,, ,, ,, ,, ,, ,, ,, ,]             13   \n",
       "12647                                                 []              0   \n",
       "12648                                       [,, ,, ,, ,]              4   \n",
       "12649                                                 []              0   \n",
       "\n",
       "       deuxpoints deuxpoints_counts  \n",
       "12645          []                 0  \n",
       "12646      [:, :]                 2  \n",
       "12647      [:, :]                 2  \n",
       "12648          []                 0  \n",
       "12649          []                 0  \n",
       "\n",
       "[5 rows x 21 columns]"
      ]
     },
     "execution_count": 17,
     "metadata": {},
     "output_type": "execute_result"
    }
   ],
   "source": [
    "#contrôle sur les 5 derniers enregistrements pour s'arrurer que le résultat est cohérent\n",
    "df_complet.tail()"
   ]
  },
  {
   "cell_type": "code",
   "execution_count": 19,
   "id": "4ac8293f",
   "metadata": {},
   "outputs": [],
   "source": [
    "#sauvegarde du dataframe en csv\n",
    "filename = \"data_ponctuation.csv\"\n",
    "df_complet.to_csv(filename)"
   ]
  },
  {
   "cell_type": "code",
   "execution_count": 20,
   "id": "35cd61a0",
   "metadata": {},
   "outputs": [],
   "source": [
    "#Démarrage modélisation\n",
    "#on se concentre sur les variables de ponctuation pour une première analyse\n",
    "df = df[['exclamation_counts','interrogation_counts','suspension_counts','point_counts','virgule_counts','deuxpoints_counts','category_numeric']]"
   ]
  },
  {
   "cell_type": "code",
   "execution_count": 21,
   "id": "2754cb68",
   "metadata": {},
   "outputs": [
    {
     "name": "stdout",
     "output_type": "stream",
     "text": [
      "<class 'pandas.core.frame.DataFrame'>\n",
      "RangeIndex: 12650 entries, 0 to 12649\n",
      "Data columns (total 7 columns):\n",
      " #   Column                Non-Null Count  Dtype\n",
      "---  ------                --------------  -----\n",
      " 0   exclamation_counts    12650 non-null  int64\n",
      " 1   interrogation_counts  12650 non-null  int64\n",
      " 2   suspension_counts     12650 non-null  int64\n",
      " 3   point_counts          12650 non-null  int64\n",
      " 4   virgule_counts        12650 non-null  int64\n",
      " 5   deuxpoints_counts     12650 non-null  int64\n",
      " 6   category_numeric      12650 non-null  int64\n",
      "dtypes: int64(7)\n",
      "memory usage: 691.9 KB\n"
     ]
    }
   ],
   "source": [
    "df.info()"
   ]
  },
  {
   "cell_type": "code",
   "execution_count": 22,
   "id": "c46d592c",
   "metadata": {},
   "outputs": [
    {
     "name": "stderr",
     "output_type": "stream",
     "text": [
      "C:\\Users\\user\\anaconda3\\Lib\\site-packages\\seaborn\\matrix.py:260: FutureWarning: Format strings passed to MaskedConstant are ignored, but in future may error or produce different behavior\n",
      "  annotation = (\"{:\" + self.fmt + \"}\").format(val)\n"
     ]
    },
    {
     "data": {
      "text/plain": [
       "<Axes: >"
      ]
     },
     "execution_count": 22,
     "metadata": {},
     "output_type": "execute_result"
    },
    {
     "data": {
      "image/png": "[encoded data removed]",
      "text/plain": [
       "<Figure size 800x800 with 2 Axes>"
      ]
     },
     "metadata": {},
     "output_type": "display_data"
    }
   ],
   "source": [
    "#Graphique avec les coefficients de corrélation simple entre variables\n",
    "import numpy as np\n",
    "import seaborn as sns\n",
    "import matplotlib.pyplot as plt\n",
    "ig, ax = plt.subplots(figsize=(8,8)) \n",
    "matrix = np.triu(df.corr())\n",
    "sns.heatmap(df.corr(),\n",
    "            annot = True,   \n",
    "            vmin=-1, \n",
    "            vmax=1, \n",
    "            center= 0, \n",
    "            cmap= 'coolwarm', \n",
    "            mask=matrix, \n",
    "            annot_kws={\"fontsize\":8})"
   ]
  },
  {
   "cell_type": "code",
   "execution_count": 23,
   "id": "b267ee6e",
   "metadata": {},
   "outputs": [],
   "source": [
    "#on sépare la variable cible et les variables explicatives\n",
    "feats=df.drop('category_numeric',axis=1)\n",
    "target=df['category_numeric']"
   ]
  },
  {
   "cell_type": "code",
   "execution_count": 24,
   "id": "51883e3f",
   "metadata": {},
   "outputs": [],
   "source": [
    "from sklearn.model_selection import train_test_split\n",
    "\n",
    "#Division de l'ensemble de données en un ensemble d'entraînement et un ensemble de test. \n",
    "X_train, X_test, y_train, y_test = train_test_split(feats, target, test_size=0.3, random_state=42)"
   ]
  },
  {
   "cell_type": "code",
   "execution_count": 32,
   "id": "5a6f382c",
   "metadata": {},
   "outputs": [
    {
     "data": {
      "text/html": [
       "<div>\n",
       "<style scoped>\n",
       "    .dataframe tbody tr th:only-of-type {\n",
       "        vertical-align: middle;\n",
       "    }\n",
       "\n",
       "    .dataframe tbody tr th {\n",
       "        vertical-align: top;\n",
       "    }\n",
       "\n",
       "    .dataframe thead th {\n",
       "        text-align: right;\n",
       "    }\n",
       "</style>\n",
       "<table border=\"1\" class=\"dataframe\">\n",
       "  <thead>\n",
       "    <tr style=\"text-align: right;\">\n",
       "      <th></th>\n",
       "      <th>exclamation_counts</th>\n",
       "      <th>interrogation_counts</th>\n",
       "      <th>suspension_counts</th>\n",
       "      <th>point_counts</th>\n",
       "      <th>virgule_counts</th>\n",
       "      <th>deuxpoints_counts</th>\n",
       "    </tr>\n",
       "  </thead>\n",
       "  <tbody>\n",
       "    <tr>\n",
       "      <th>count</th>\n",
       "      <td>12650.000000</td>\n",
       "      <td>12650.000000</td>\n",
       "      <td>12650.000000</td>\n",
       "      <td>12650.000000</td>\n",
       "      <td>12650.000000</td>\n",
       "      <td>12650.000000</td>\n",
       "    </tr>\n",
       "    <tr>\n",
       "      <th>mean</th>\n",
       "      <td>0.972490</td>\n",
       "      <td>0.140632</td>\n",
       "      <td>0.048696</td>\n",
       "      <td>2.265375</td>\n",
       "      <td>2.065059</td>\n",
       "      <td>0.171383</td>\n",
       "    </tr>\n",
       "    <tr>\n",
       "      <th>std</th>\n",
       "      <td>2.996934</td>\n",
       "      <td>0.765222</td>\n",
       "      <td>0.368968</td>\n",
       "      <td>3.393247</td>\n",
       "      <td>3.844736</td>\n",
       "      <td>0.789810</td>\n",
       "    </tr>\n",
       "    <tr>\n",
       "      <th>min</th>\n",
       "      <td>0.000000</td>\n",
       "      <td>0.000000</td>\n",
       "      <td>0.000000</td>\n",
       "      <td>0.000000</td>\n",
       "      <td>0.000000</td>\n",
       "      <td>0.000000</td>\n",
       "    </tr>\n",
       "    <tr>\n",
       "      <th>25%</th>\n",
       "      <td>0.000000</td>\n",
       "      <td>0.000000</td>\n",
       "      <td>0.000000</td>\n",
       "      <td>0.000000</td>\n",
       "      <td>0.000000</td>\n",
       "      <td>0.000000</td>\n",
       "    </tr>\n",
       "    <tr>\n",
       "      <th>50%</th>\n",
       "      <td>0.000000</td>\n",
       "      <td>0.000000</td>\n",
       "      <td>0.000000</td>\n",
       "      <td>1.000000</td>\n",
       "      <td>1.000000</td>\n",
       "      <td>0.000000</td>\n",
       "    </tr>\n",
       "    <tr>\n",
       "      <th>75%</th>\n",
       "      <td>1.000000</td>\n",
       "      <td>0.000000</td>\n",
       "      <td>0.000000</td>\n",
       "      <td>3.000000</td>\n",
       "      <td>3.000000</td>\n",
       "      <td>0.000000</td>\n",
       "    </tr>\n",
       "    <tr>\n",
       "      <th>max</th>\n",
       "      <td>89.000000</td>\n",
       "      <td>22.000000</td>\n",
       "      <td>10.000000</td>\n",
       "      <td>47.000000</td>\n",
       "      <td>63.000000</td>\n",
       "      <td>42.000000</td>\n",
       "    </tr>\n",
       "  </tbody>\n",
       "</table>\n",
       "</div>"
      ],
      "text/plain": [
       "       exclamation_counts  interrogation_counts  suspension_counts  \\\n",
       "count        12650.000000          12650.000000       12650.000000   \n",
       "mean             0.972490              0.140632           0.048696   \n",
       "std              2.996934              0.765222           0.368968   \n",
       "min              0.000000              0.000000           0.000000   \n",
       "25%              0.000000              0.000000           0.000000   \n",
       "50%              0.000000              0.000000           0.000000   \n",
       "75%              1.000000              0.000000           0.000000   \n",
       "max             89.000000             22.000000          10.000000   \n",
       "\n",
       "       point_counts  virgule_counts  deuxpoints_counts  \n",
       "count  12650.000000    12650.000000       12650.000000  \n",
       "mean       2.265375        2.065059           0.171383  \n",
       "std        3.393247        3.844736           0.789810  \n",
       "min        0.000000        0.000000           0.000000  \n",
       "25%        0.000000        0.000000           0.000000  \n",
       "50%        1.000000        1.000000           0.000000  \n",
       "75%        3.000000        3.000000           0.000000  \n",
       "max       47.000000       63.000000          42.000000  "
      ]
     },
     "execution_count": 32,
     "metadata": {},
     "output_type": "execute_result"
    }
   ],
   "source": [
    "feats.describe()"
   ]
  },
  {
   "cell_type": "code",
   "execution_count": 25,
   "id": "aec385c8",
   "metadata": {},
   "outputs": [
    {
     "name": "stdout",
     "output_type": "stream",
     "text": [
      "Score sur ensemble test 0.7620553359683795\n"
     ]
    }
   ],
   "source": [
    "#pas de standardisation nécessaire vue les échelles de données\n",
    "\n",
    "#on démarre sur une modélisation à partir de l'algorithme SVM (Support Vector Machine)\n",
    "\n",
    "from sklearn.svm import SVC\n",
    "#Modèle de classification SVM, en ajoutant l'argument gamma='scale'\n",
    "svm = SVC(gamma='scale')\n",
    "#Entraînement du modèle sur l'ensemble d'entraînement\n",
    "svm.fit(X_train, y_train)\n",
    "#Affichage du score sur ensemble de test\n",
    "print('Score sur ensemble test', svm.score(X_test, y_test))"
   ]
  },
  {
   "cell_type": "code",
   "execution_count": 31,
   "id": "b0d20f4b",
   "metadata": {},
   "outputs": [
    {
     "name": "stdout",
     "output_type": "stream",
     "text": [
      "Score sur ensemble dentrainement 0.7477131564088085\n"
     ]
    }
   ],
   "source": [
    "print('Score sur ensemble d''entrainement', svm.score(X_train, y_train))\n",
    "#Il n'y a pas de différence spectaculaire entre l'entraînement et le test donc pas d'overfitting à priori"
   ]
  },
  {
   "cell_type": "code",
   "execution_count": 26,
   "id": "094f0100",
   "metadata": {},
   "outputs": [
    {
     "name": "stdout",
     "output_type": "stream",
     "text": [
      "Predictions         -1     1\n",
      "category_numeric            \n",
      "-1                1384   517\n",
      " 0                  52    56\n",
      " 1                 278  1508\n"
     ]
    }
   ],
   "source": [
    "#Prédictions sur l'ensemble de test et stockage dans la variable y_pred\n",
    "y_pred = svm.predict(X_test)\n",
    "#Affichage de la matrice de confusion\n",
    "print(pd.crosstab(y_test, y_pred, colnames=['Predictions']))"
   ]
  },
  {
   "cell_type": "code",
   "execution_count": 27,
   "id": "533b1e89",
   "metadata": {},
   "outputs": [
    {
     "name": "stdout",
     "output_type": "stream",
     "text": [
      "              precision    recall  f1-score   support\n",
      "\n",
      "          -1       0.81      0.73      0.77      1901\n",
      "           0       0.00      0.00      0.00       108\n",
      "           1       0.72      0.84      0.78      1786\n",
      "\n",
      "    accuracy                           0.76      3795\n",
      "   macro avg       0.51      0.52      0.52      3795\n",
      "weighted avg       0.75      0.76      0.75      3795\n",
      "\n"
     ]
    },
    {
     "name": "stderr",
     "output_type": "stream",
     "text": [
      "C:\\Users\\user\\anaconda3\\Lib\\site-packages\\sklearn\\metrics\\_classification.py:1344: UndefinedMetricWarning: Precision and F-score are ill-defined and being set to 0.0 in labels with no predicted samples. Use `zero_division` parameter to control this behavior.\n",
      "  _warn_prf(average, modifier, msg_start, len(result))\n",
      "C:\\Users\\user\\anaconda3\\Lib\\site-packages\\sklearn\\metrics\\_classification.py:1344: UndefinedMetricWarning: Precision and F-score are ill-defined and being set to 0.0 in labels with no predicted samples. Use `zero_division` parameter to control this behavior.\n",
      "  _warn_prf(average, modifier, msg_start, len(result))\n",
      "C:\\Users\\user\\anaconda3\\Lib\\site-packages\\sklearn\\metrics\\_classification.py:1344: UndefinedMetricWarning: Precision and F-score are ill-defined and being set to 0.0 in labels with no predicted samples. Use `zero_division` parameter to control this behavior.\n",
      "  _warn_prf(average, modifier, msg_start, len(result))\n"
     ]
    }
   ],
   "source": [
    "#ffichage du rapport de classification de nos prédictions\n",
    "from sklearn.metrics import confusion_matrix, accuracy_score, classification_report\n",
    "print(classification_report(y_test, y_pred))"
   ]
  },
  {
   "cell_type": "code",
   "execution_count": 35,
   "id": "9c14dac9",
   "metadata": {},
   "outputs": [
    {
     "data": {
      "text/html": [
       "<style>#sk-container-id-1 {color: black;background-color: white;}#sk-container-id-1 pre{padding: 0;}#sk-container-id-1 div.sk-toggleable {background-color: white;}#sk-container-id-1 label.sk-toggleable__label {cursor: pointer;display: block;width: 100%;margin-bottom: 0;padding: 0.3em;box-sizing: border-box;text-align: center;}#sk-container-id-1 label.sk-toggleable__label-arrow:before {content: \"▸\";float: left;margin-right: 0.25em;color: #696969;}#sk-container-id-1 label.sk-toggleable__label-arrow:hover:before {color: black;}#sk-container-id-1 div.sk-estimator:hover label.sk-toggleable__label-arrow:before {color: black;}#sk-container-id-1 div.sk-toggleable__content {max-height: 0;max-width: 0;overflow: hidden;text-align: left;background-color: #f0f8ff;}#sk-container-id-1 div.sk-toggleable__content pre {margin: 0.2em;color: black;border-radius: 0.25em;background-color: #f0f8ff;}#sk-container-id-1 input.sk-toggleable__control:checked~div.sk-toggleable__content {max-height: 200px;max-width: 100%;overflow: auto;}#sk-container-id-1 input.sk-toggleable__control:checked~label.sk-toggleable__label-arrow:before {content: \"▾\";}#sk-container-id-1 div.sk-estimator input.sk-toggleable__control:checked~label.sk-toggleable__label {background-color: #d4ebff;}#sk-container-id-1 div.sk-label input.sk-toggleable__control:checked~label.sk-toggleable__label {background-color: #d4ebff;}#sk-container-id-1 input.sk-hidden--visually {border: 0;clip: rect(1px 1px 1px 1px);clip: rect(1px, 1px, 1px, 1px);height: 1px;margin: -1px;overflow: hidden;padding: 0;position: absolute;width: 1px;}#sk-container-id-1 div.sk-estimator {font-family: monospace;background-color: #f0f8ff;border: 1px dotted black;border-radius: 0.25em;box-sizing: border-box;margin-bottom: 0.5em;}#sk-container-id-1 div.sk-estimator:hover {background-color: #d4ebff;}#sk-container-id-1 div.sk-parallel-item::after {content: \"\";width: 100%;border-bottom: 1px solid gray;flex-grow: 1;}#sk-container-id-1 div.sk-label:hover label.sk-toggleable__label {background-color: #d4ebff;}#sk-container-id-1 div.sk-serial::before {content: \"\";position: absolute;border-left: 1px solid gray;box-sizing: border-box;top: 0;bottom: 0;left: 50%;z-index: 0;}#sk-container-id-1 div.sk-serial {display: flex;flex-direction: column;align-items: center;background-color: white;padding-right: 0.2em;padding-left: 0.2em;position: relative;}#sk-container-id-1 div.sk-item {position: relative;z-index: 1;}#sk-container-id-1 div.sk-parallel {display: flex;align-items: stretch;justify-content: center;background-color: white;position: relative;}#sk-container-id-1 div.sk-item::before, #sk-container-id-1 div.sk-parallel-item::before {content: \"\";position: absolute;border-left: 1px solid gray;box-sizing: border-box;top: 0;bottom: 0;left: 50%;z-index: -1;}#sk-container-id-1 div.sk-parallel-item {display: flex;flex-direction: column;z-index: 1;position: relative;background-color: white;}#sk-container-id-1 div.sk-parallel-item:first-child::after {align-self: flex-end;width: 50%;}#sk-container-id-1 div.sk-parallel-item:last-child::after {align-self: flex-start;width: 50%;}#sk-container-id-1 div.sk-parallel-item:only-child::after {width: 0;}#sk-container-id-1 div.sk-dashed-wrapped {border: 1px dashed gray;margin: 0 0.4em 0.5em 0.4em;box-sizing: border-box;padding-bottom: 0.4em;background-color: white;}#sk-container-id-1 div.sk-label label {font-family: monospace;font-weight: bold;display: inline-block;line-height: 1.2em;}#sk-container-id-1 div.sk-label-container {text-align: center;}#sk-container-id-1 div.sk-container {/* jupyter's `normalize.less` sets `[hidden] { display: none; }` but bootstrap.min.css set `[hidden] { display: none !important; }` so we also need the `!important` here to be able to override the default hidden behavior on the sphinx rendered scikit-learn.org. See: https://github.com/scikit-learn/scikit-learn/issues/21755 */display: inline-block !important;position: relative;}#sk-container-id-1 div.sk-text-repr-fallback {display: none;}</style><div id=\"sk-container-id-1\" class=\"sk-top-container\"><div class=\"sk-text-repr-fallback\"><pre>KNeighborsClassifier(n_neighbors=2)</pre><b>In a Jupyter environment, please rerun this cell to show the HTML representation or trust the notebook. <br />On GitHub, the HTML representation is unable to render, please try loading this page with nbviewer.org.</b></div><div class=\"sk-container\" hidden><div class=\"sk-item\"><div class=\"sk-estimator sk-toggleable\"><input class=\"sk-toggleable__control sk-hidden--visually\" id=\"sk-estimator-id-1\" type=\"checkbox\" checked><label for=\"sk-estimator-id-1\" class=\"sk-toggleable__label sk-toggleable__label-arrow\">KNeighborsClassifier</label><div class=\"sk-toggleable__content\"><pre>KNeighborsClassifier(n_neighbors=2)</pre></div></div></div></div></div>"
      ],
      "text/plain": [
       "KNeighborsClassifier(n_neighbors=2)"
      ]
     },
     "execution_count": 35,
     "metadata": {},
     "output_type": "execute_result"
    }
   ],
   "source": [
    "#les résultats du modèle sont corrects mais il pourrait être amélioré\n",
    "#On va modéliser sur base d'un algorithme KNN\n",
    "from sklearn.neighbors import KNeighborsClassifier\n",
    "\n",
    "#Création du classifieur avec n_neighbors=2\n",
    "knn=KNeighborsClassifier(n_neighbors=2)\n",
    "# Entraînement de l'algorithme sur l'ensemble d'entraînement\n",
    "knn.fit(X_train, y_train)\n",
    "\n"
   ]
  },
  {
   "cell_type": "code",
   "execution_count": 36,
   "id": "2d9fb6ea",
   "metadata": {},
   "outputs": [
    {
     "name": "stdout",
     "output_type": "stream",
     "text": [
      "Score sur ensemble test 0.5277997364953887\n"
     ]
    }
   ],
   "source": [
    "#Affichage du score sur ensemble de test\n",
    "print('Score sur ensemble test', knn.score(X_test, y_test))"
   ]
  },
  {
   "cell_type": "code",
   "execution_count": 37,
   "id": "5f87855f",
   "metadata": {},
   "outputs": [
    {
     "name": "stdout",
     "output_type": "stream",
     "text": [
      "Score sur ensemble test 0.7046113306982872\n"
     ]
    }
   ],
   "source": [
    "#Création du classifieur avec n_neighbors=7\n",
    "knn=KNeighborsClassifier(n_neighbors=7)\n",
    "# Entraînement de l'algorithme sur l'ensemble d'entraînement\n",
    "knn.fit(X_train, y_train)\n",
    "print('Score sur ensemble test', knn.score(X_test, y_test))"
   ]
  },
  {
   "cell_type": "code",
   "execution_count": 38,
   "id": "65ac4262",
   "metadata": {},
   "outputs": [
    {
     "name": "stdout",
     "output_type": "stream",
     "text": [
      "Score sur ensemble test 0.7525691699604743\n"
     ]
    }
   ],
   "source": [
    "#Création du classifieur avec n_neighbors=20\n",
    "knn=KNeighborsClassifier(n_neighbors=20)\n",
    "# Entraînement de l'algorithme sur l'ensemble d'entraînement\n",
    "knn.fit(X_train, y_train)\n",
    "print('Score sur ensemble test', knn.score(X_test, y_test))"
   ]
  },
  {
   "cell_type": "code",
   "execution_count": 39,
   "id": "05f863e8",
   "metadata": {},
   "outputs": [
    {
     "name": "stdout",
     "output_type": "stream",
     "text": [
      "Score sur ensemble test 0.7575757575757576\n"
     ]
    }
   ],
   "source": [
    "#Création du classifieur avec n_neighbors=30\n",
    "knn=KNeighborsClassifier(n_neighbors=30)\n",
    "# Entraînement de l'algorithme sur l'ensemble d'entraînement\n",
    "knn.fit(X_train, y_train)\n",
    "print('Score sur ensemble test', knn.score(X_test, y_test))"
   ]
  },
  {
   "cell_type": "code",
   "execution_count": 40,
   "id": "6cdc2119",
   "metadata": {},
   "outputs": [
    {
     "name": "stdout",
     "output_type": "stream",
     "text": [
      "Score sur ensemble test 0.7549407114624506\n"
     ]
    }
   ],
   "source": [
    "#Création du classifieur avec n_neighbors=40\n",
    "knn=KNeighborsClassifier(n_neighbors=40)\n",
    "# Entraînement de l'algorithme sur l'ensemble d'entraînement\n",
    "knn.fit(X_train, y_train)\n",
    "print('Score sur ensemble test', knn.score(X_test, y_test))"
   ]
  },
  {
   "cell_type": "code",
   "execution_count": null,
   "id": "44d38102",
   "metadata": {},
   "outputs": [],
   "source": [
    "#on obtient un score identique qu'avec SVM en prenant un n_neighbors à 20,30 et 40"
   ]
  },
  {
   "cell_type": "code",
   "execution_count": 42,
   "id": "af3cb1b5",
   "metadata": {},
   "outputs": [
    {
     "data": {
      "text/html": [
       "<style>#sk-container-id-2 {color: black;background-color: white;}#sk-container-id-2 pre{padding: 0;}#sk-container-id-2 div.sk-toggleable {background-color: white;}#sk-container-id-2 label.sk-toggleable__label {cursor: pointer;display: block;width: 100%;margin-bottom: 0;padding: 0.3em;box-sizing: border-box;text-align: center;}#sk-container-id-2 label.sk-toggleable__label-arrow:before {content: \"▸\";float: left;margin-right: 0.25em;color: #696969;}#sk-container-id-2 label.sk-toggleable__label-arrow:hover:before {color: black;}#sk-container-id-2 div.sk-estimator:hover label.sk-toggleable__label-arrow:before {color: black;}#sk-container-id-2 div.sk-toggleable__content {max-height: 0;max-width: 0;overflow: hidden;text-align: left;background-color: #f0f8ff;}#sk-container-id-2 div.sk-toggleable__content pre {margin: 0.2em;color: black;border-radius: 0.25em;background-color: #f0f8ff;}#sk-container-id-2 input.sk-toggleable__control:checked~div.sk-toggleable__content {max-height: 200px;max-width: 100%;overflow: auto;}#sk-container-id-2 input.sk-toggleable__control:checked~label.sk-toggleable__label-arrow:before {content: \"▾\";}#sk-container-id-2 div.sk-estimator input.sk-toggleable__control:checked~label.sk-toggleable__label {background-color: #d4ebff;}#sk-container-id-2 div.sk-label input.sk-toggleable__control:checked~label.sk-toggleable__label {background-color: #d4ebff;}#sk-container-id-2 input.sk-hidden--visually {border: 0;clip: rect(1px 1px 1px 1px);clip: rect(1px, 1px, 1px, 1px);height: 1px;margin: -1px;overflow: hidden;padding: 0;position: absolute;width: 1px;}#sk-container-id-2 div.sk-estimator {font-family: monospace;background-color: #f0f8ff;border: 1px dotted black;border-radius: 0.25em;box-sizing: border-box;margin-bottom: 0.5em;}#sk-container-id-2 div.sk-estimator:hover {background-color: #d4ebff;}#sk-container-id-2 div.sk-parallel-item::after {content: \"\";width: 100%;border-bottom: 1px solid gray;flex-grow: 1;}#sk-container-id-2 div.sk-label:hover label.sk-toggleable__label {background-color: #d4ebff;}#sk-container-id-2 div.sk-serial::before {content: \"\";position: absolute;border-left: 1px solid gray;box-sizing: border-box;top: 0;bottom: 0;left: 50%;z-index: 0;}#sk-container-id-2 div.sk-serial {display: flex;flex-direction: column;align-items: center;background-color: white;padding-right: 0.2em;padding-left: 0.2em;position: relative;}#sk-container-id-2 div.sk-item {position: relative;z-index: 1;}#sk-container-id-2 div.sk-parallel {display: flex;align-items: stretch;justify-content: center;background-color: white;position: relative;}#sk-container-id-2 div.sk-item::before, #sk-container-id-2 div.sk-parallel-item::before {content: \"\";position: absolute;border-left: 1px solid gray;box-sizing: border-box;top: 0;bottom: 0;left: 50%;z-index: -1;}#sk-container-id-2 div.sk-parallel-item {display: flex;flex-direction: column;z-index: 1;position: relative;background-color: white;}#sk-container-id-2 div.sk-parallel-item:first-child::after {align-self: flex-end;width: 50%;}#sk-container-id-2 div.sk-parallel-item:last-child::after {align-self: flex-start;width: 50%;}#sk-container-id-2 div.sk-parallel-item:only-child::after {width: 0;}#sk-container-id-2 div.sk-dashed-wrapped {border: 1px dashed gray;margin: 0 0.4em 0.5em 0.4em;box-sizing: border-box;padding-bottom: 0.4em;background-color: white;}#sk-container-id-2 div.sk-label label {font-family: monospace;font-weight: bold;display: inline-block;line-height: 1.2em;}#sk-container-id-2 div.sk-label-container {text-align: center;}#sk-container-id-2 div.sk-container {/* jupyter's `normalize.less` sets `[hidden] { display: none; }` but bootstrap.min.css set `[hidden] { display: none !important; }` so we also need the `!important` here to be able to override the default hidden behavior on the sphinx rendered scikit-learn.org. See: https://github.com/scikit-learn/scikit-learn/issues/21755 */display: inline-block !important;position: relative;}#sk-container-id-2 div.sk-text-repr-fallback {display: none;}</style><div id=\"sk-container-id-2\" class=\"sk-top-container\"><div class=\"sk-text-repr-fallback\"><pre>RandomForestClassifier()</pre><b>In a Jupyter environment, please rerun this cell to show the HTML representation or trust the notebook. <br />On GitHub, the HTML representation is unable to render, please try loading this page with nbviewer.org.</b></div><div class=\"sk-container\" hidden><div class=\"sk-item\"><div class=\"sk-estimator sk-toggleable\"><input class=\"sk-toggleable__control sk-hidden--visually\" id=\"sk-estimator-id-2\" type=\"checkbox\" checked><label for=\"sk-estimator-id-2\" class=\"sk-toggleable__label sk-toggleable__label-arrow\">RandomForestClassifier</label><div class=\"sk-toggleable__content\"><pre>RandomForestClassifier()</pre></div></div></div></div></div>"
      ],
      "text/plain": [
       "RandomForestClassifier()"
      ]
     },
     "execution_count": 42,
     "metadata": {},
     "output_type": "execute_result"
    }
   ],
   "source": [
    "#on va modéliser sur base de RandomForest\n",
    "from sklearn.ensemble import RandomForestClassifier\n",
    "\n",
    "rf= RandomForestClassifier(max_features='sqrt',min_samples_split=2)\n",
    "# Entraînement de l'algorithme sur l'ensemble d'entraînement\n",
    "rf.fit(X_train, y_train)"
   ]
  },
  {
   "cell_type": "code",
   "execution_count": 43,
   "id": "79d1e5e6",
   "metadata": {},
   "outputs": [
    {
     "name": "stdout",
     "output_type": "stream",
     "text": [
      "Score sur ensemble test 0.7549407114624506\n"
     ]
    }
   ],
   "source": [
    "#Affichage du score sur ensemble de test\n",
    "print('Score sur ensemble test', knn.score(X_test, y_test))"
   ]
  },
  {
   "cell_type": "code",
   "execution_count": 46,
   "id": "999b812b",
   "metadata": {},
   "outputs": [],
   "source": [
    "#recherche des meilleurs paramètres pour le RandomForest\n",
    "from sklearn.model_selection import GridSearchCV\n",
    "\n",
    "parametres = {'max_features':[ 'sqrt', 'log2', None], 'min_samples_split':[2,3,4,5,6,7,8,9,10,11,12,12,14,15,16,17,18,19,20,21,22,23,24,25,26,27,28,29,30]}\n",
    "grid_rf=GridSearchCV(estimator=rf, param_grid=parametres)\n"
   ]
  },
  {
   "cell_type": "code",
   "execution_count": 48,
   "id": "343a84c3",
   "metadata": {},
   "outputs": [],
   "source": [
    "# Sauvegarder des résultats dans l'objet grille\n",
    "grille = grid_rf.fit(X_train,y_train)"
   ]
  },
  {
   "cell_type": "code",
   "execution_count": 50,
   "id": "b1c18c48",
   "metadata": {},
   "outputs": [
    {
     "name": "stdout",
     "output_type": "stream",
     "text": [
      "                                               params  mean_test_score\n",
      "0    {'max_features': 'sqrt', 'min_samples_split': 2}         0.742180\n",
      "1    {'max_features': 'sqrt', 'min_samples_split': 3}         0.745116\n",
      "2    {'max_features': 'sqrt', 'min_samples_split': 4}         0.746471\n",
      "3    {'max_features': 'sqrt', 'min_samples_split': 5}         0.747487\n",
      "4    {'max_features': 'sqrt', 'min_samples_split': 6}         0.747826\n",
      "5    {'max_features': 'sqrt', 'min_samples_split': 7}         0.748504\n",
      "6    {'max_features': 'sqrt', 'min_samples_split': 8}         0.748955\n",
      "7    {'max_features': 'sqrt', 'min_samples_split': 9}         0.750311\n",
      "8   {'max_features': 'sqrt', 'min_samples_split': 10}         0.750423\n",
      "9   {'max_features': 'sqrt', 'min_samples_split': 11}         0.750085\n",
      "10  {'max_features': 'sqrt', 'min_samples_split': 12}         0.750198\n",
      "11  {'max_features': 'sqrt', 'min_samples_split': 12}         0.749633\n",
      "12  {'max_features': 'sqrt', 'min_samples_split': 14}         0.750649\n",
      "13  {'max_features': 'sqrt', 'min_samples_split': 15}         0.750536\n",
      "14  {'max_features': 'sqrt', 'min_samples_split': 16}         0.750536\n",
      "15  {'max_features': 'sqrt', 'min_samples_split': 17}         0.751666\n",
      "16  {'max_features': 'sqrt', 'min_samples_split': 18}         0.750198\n",
      "17  {'max_features': 'sqrt', 'min_samples_split': 19}         0.750311\n",
      "18  {'max_features': 'sqrt', 'min_samples_split': 20}         0.750988\n",
      "19  {'max_features': 'sqrt', 'min_samples_split': 21}         0.750536\n",
      "20  {'max_features': 'sqrt', 'min_samples_split': 22}         0.750423\n",
      "21  {'max_features': 'sqrt', 'min_samples_split': 23}         0.750311\n",
      "22  {'max_features': 'sqrt', 'min_samples_split': 24}         0.751214\n",
      "23  {'max_features': 'sqrt', 'min_samples_split': 25}         0.750762\n",
      "24  {'max_features': 'sqrt', 'min_samples_split': 26}         0.749859\n",
      "25  {'max_features': 'sqrt', 'min_samples_split': 27}         0.749859\n",
      "26  {'max_features': 'sqrt', 'min_samples_split': 28}         0.750762\n",
      "27  {'max_features': 'sqrt', 'min_samples_split': 29}         0.749746\n",
      "28  {'max_features': 'sqrt', 'min_samples_split': 30}         0.749972\n",
      "29   {'max_features': 'log2', 'min_samples_split': 2}         0.741389\n",
      "30   {'max_features': 'log2', 'min_samples_split': 3}         0.743986\n",
      "31   {'max_features': 'log2', 'min_samples_split': 4}         0.746471\n",
      "32   {'max_features': 'log2', 'min_samples_split': 5}         0.747826\n",
      "33   {'max_features': 'log2', 'min_samples_split': 6}         0.748165\n",
      "34   {'max_features': 'log2', 'min_samples_split': 7}         0.748842\n",
      "35   {'max_features': 'log2', 'min_samples_split': 8}         0.749294\n",
      "36   {'max_features': 'log2', 'min_samples_split': 9}         0.748955\n",
      "37  {'max_features': 'log2', 'min_samples_split': 10}         0.749972\n",
      "38  {'max_features': 'log2', 'min_samples_split': 11}         0.750198\n",
      "39  {'max_features': 'log2', 'min_samples_split': 12}         0.749294\n",
      "40  {'max_features': 'log2', 'min_samples_split': 12}         0.749746\n",
      "41  {'max_features': 'log2', 'min_samples_split': 14}         0.750762\n",
      "42  {'max_features': 'log2', 'min_samples_split': 15}         0.750198\n",
      "43  {'max_features': 'log2', 'min_samples_split': 16}         0.750536\n",
      "44  {'max_features': 'log2', 'min_samples_split': 17}         0.750536\n",
      "45  {'max_features': 'log2', 'min_samples_split': 18}         0.750649\n",
      "46  {'max_features': 'log2', 'min_samples_split': 19}         0.750988\n",
      "47  {'max_features': 'log2', 'min_samples_split': 20}         0.750423\n",
      "48  {'max_features': 'log2', 'min_samples_split': 21}         0.751327\n",
      "49  {'max_features': 'log2', 'min_samples_split': 22}         0.750311\n",
      "50  {'max_features': 'log2', 'min_samples_split': 23}         0.750536\n",
      "51  {'max_features': 'log2', 'min_samples_split': 24}         0.750536\n",
      "52  {'max_features': 'log2', 'min_samples_split': 25}         0.750875\n",
      "53  {'max_features': 'log2', 'min_samples_split': 26}         0.749972\n",
      "54  {'max_features': 'log2', 'min_samples_split': 27}         0.750085\n",
      "55  {'max_features': 'log2', 'min_samples_split': 28}         0.750762\n",
      "56  {'max_features': 'log2', 'min_samples_split': 29}         0.750988\n",
      "57  {'max_features': 'log2', 'min_samples_split': 30}         0.750198\n",
      "58     {'max_features': None, 'min_samples_split': 2}         0.738679\n",
      "59     {'max_features': None, 'min_samples_split': 3}         0.742180\n",
      "60     {'max_features': None, 'min_samples_split': 4}         0.743648\n",
      "61     {'max_features': None, 'min_samples_split': 5}         0.744664\n",
      "62     {'max_features': None, 'min_samples_split': 6}         0.746584\n",
      "63     {'max_features': None, 'min_samples_split': 7}         0.747374\n",
      "64     {'max_features': None, 'min_samples_split': 8}         0.748165\n",
      "65     {'max_features': None, 'min_samples_split': 9}         0.748052\n",
      "66    {'max_features': None, 'min_samples_split': 10}         0.748278\n",
      "67    {'max_features': None, 'min_samples_split': 11}         0.748504\n",
      "68    {'max_features': None, 'min_samples_split': 12}         0.749972\n",
      "69    {'max_features': None, 'min_samples_split': 12}         0.748165\n",
      "70    {'max_features': None, 'min_samples_split': 14}         0.749181\n",
      "71    {'max_features': None, 'min_samples_split': 15}         0.749520\n",
      "72    {'max_features': None, 'min_samples_split': 16}         0.750423\n",
      "73    {'max_features': None, 'min_samples_split': 17}         0.750875\n",
      "74    {'max_features': None, 'min_samples_split': 18}         0.750536\n",
      "75    {'max_features': None, 'min_samples_split': 19}         0.750423\n",
      "76    {'max_features': None, 'min_samples_split': 20}         0.750198\n",
      "77    {'max_features': None, 'min_samples_split': 21}         0.749972\n",
      "78    {'max_features': None, 'min_samples_split': 22}         0.750649\n",
      "79    {'max_features': None, 'min_samples_split': 23}         0.750875\n",
      "80    {'max_features': None, 'min_samples_split': 24}         0.750198\n",
      "81    {'max_features': None, 'min_samples_split': 25}         0.750536\n",
      "82    {'max_features': None, 'min_samples_split': 26}         0.750762\n",
      "83    {'max_features': None, 'min_samples_split': 27}         0.750536\n",
      "84    {'max_features': None, 'min_samples_split': 28}         0.750198\n",
      "85    {'max_features': None, 'min_samples_split': 29}         0.750762\n",
      "86    {'max_features': None, 'min_samples_split': 30}         0.750536\n"
     ]
    }
   ],
   "source": [
    "#Affichage de toutes les combinaisons possibles d'hyperparamètres\n",
    "pd.set_option('display.max_rows', None)\n",
    "print(pd.DataFrame.from_dict(grille.cv_results_).loc[:,['params', 'mean_test_score']])"
   ]
  },
  {
   "cell_type": "code",
   "execution_count": 51,
   "id": "26fa2a5c",
   "metadata": {},
   "outputs": [
    {
     "name": "stdout",
     "output_type": "stream",
     "text": [
      "{'max_features': 'sqrt', 'min_samples_split': 17}\n"
     ]
    }
   ],
   "source": [
    "# Affichage des meilleurs paramètres de la grille pour notre modèle grid_rf\n",
    "print(grid_rf.best_params_)"
   ]
  },
  {
   "cell_type": "code",
   "execution_count": 53,
   "id": "be775632",
   "metadata": {},
   "outputs": [
    {
     "data": {
      "text/html": [
       "<div>\n",
       "<style scoped>\n",
       "    .dataframe tbody tr th:only-of-type {\n",
       "        vertical-align: middle;\n",
       "    }\n",
       "\n",
       "    .dataframe tbody tr th {\n",
       "        vertical-align: top;\n",
       "    }\n",
       "\n",
       "    .dataframe thead th {\n",
       "        text-align: right;\n",
       "    }\n",
       "</style>\n",
       "<table border=\"1\" class=\"dataframe\">\n",
       "  <thead>\n",
       "    <tr style=\"text-align: right;\">\n",
       "      <th>Classe prédite</th>\n",
       "      <th>-1</th>\n",
       "      <th>0</th>\n",
       "      <th>1</th>\n",
       "    </tr>\n",
       "    <tr>\n",
       "      <th>Classe réelle</th>\n",
       "      <th></th>\n",
       "      <th></th>\n",
       "      <th></th>\n",
       "    </tr>\n",
       "  </thead>\n",
       "  <tbody>\n",
       "    <tr>\n",
       "      <th>-1</th>\n",
       "      <td>1388</td>\n",
       "      <td>0</td>\n",
       "      <td>513</td>\n",
       "    </tr>\n",
       "    <tr>\n",
       "      <th>0</th>\n",
       "      <td>28</td>\n",
       "      <td>24</td>\n",
       "      <td>56</td>\n",
       "    </tr>\n",
       "    <tr>\n",
       "      <th>1</th>\n",
       "      <td>213</td>\n",
       "      <td>0</td>\n",
       "      <td>1573</td>\n",
       "    </tr>\n",
       "  </tbody>\n",
       "</table>\n",
       "</div>"
      ],
      "text/plain": [
       "Classe prédite    -1   0     1\n",
       "Classe réelle                 \n",
       "-1              1388   0   513\n",
       " 0                28  24    56\n",
       " 1               213   0  1573"
      ]
     },
     "execution_count": 53,
     "metadata": {},
     "output_type": "execute_result"
    }
   ],
   "source": [
    "#Application du modèle à l'ensemble de test avec les meilleurs paramètres\n",
    "RandomForestClassifierrf= RandomForestClassifier(max_features='sqrt',min_samples_split=17)\n",
    "rf.fit(X_test, y_test)\n",
    "y_pred = rf.predict(X_test)\n",
    "\n",
    "#Affichez la matrice de confusion\n",
    "cm = pd.crosstab(y_test, y_pred, rownames=['Classe réelle'], colnames=['Classe prédite'])\n",
    "cm"
   ]
  },
  {
   "cell_type": "code",
   "execution_count": 54,
   "id": "fcdac0d2",
   "metadata": {},
   "outputs": [
    {
     "data": {
      "text/plain": [
       "0.7865612648221344"
      ]
     },
     "execution_count": 54,
     "metadata": {},
     "output_type": "execute_result"
    }
   ],
   "source": [
    "#Affichage du score du modèle\n",
    "rf.score(X_test, y_test)"
   ]
  },
  {
   "cell_type": "code",
   "execution_count": null,
   "id": "220de152",
   "metadata": {},
   "outputs": [],
   "source": [
    "#Le score de l'algo des K-plus proches voisins avec les meilleurs paramètres est : 78,65%"
   ]
  }
 ],
 "metadata": {
  "kernelspec": {
   "display_name": "Python 3 (ipykernel)",
   "language": "python",
   "name": "python3"
  },
  "language_info": {
   "codemirror_mode": {
    "name": "ipython",
    "version": 3
   },
   "file_extension": ".py",
   "mimetype": "text/x-python",
   "name": "python",
   "nbconvert_exporter": "python",
   "pygments_lexer": "ipython3",
   "version": "3.11.7"
  }
 },
 "nbformat": 4,
 "nbformat_minor": 5
}
